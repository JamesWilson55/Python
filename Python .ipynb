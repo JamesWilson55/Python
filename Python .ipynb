{
 "cells": [
  {
   "cell_type": "markdown",
   "metadata": {},
   "source": [
    "# Python Code HW"
   ]
  },
  {
   "cell_type": "markdown",
   "metadata": {},
   "source": [
    "### 1. Output to the screen"
   ]
  },
  {
   "cell_type": "code",
   "execution_count": 1,
   "metadata": {},
   "outputs": [
    {
     "name": "stdout",
     "output_type": "stream",
     "text": [
      "This is John's first program\n"
     ]
    }
   ],
   "source": [
    "print(\"This is John's first program\")"
   ]
  },
  {
   "cell_type": "markdown",
   "metadata": {},
   "source": [
    "### 2. Storing data in Variables"
   ]
  },
  {
   "cell_type": "code",
   "execution_count": 6,
   "metadata": {},
   "outputs": [
    {
     "name": "stdout",
     "output_type": "stream",
     "text": [
      "Name- James School- ADA firend's name- Noura\n"
     ]
    }
   ],
   "source": [
    "name = \"James\"\n",
    "school = \"ADA\"\n",
    "friend_name = \"Noura\"\n",
    "print(\"Name-\",name,\"School-\",school,\"firend's name-\",friend_name)"
   ]
  },
  {
   "cell_type": "markdown",
   "metadata": {},
   "source": [
    "### 3. Inputting data"
   ]
  },
  {
   "cell_type": "markdown",
   "metadata": {},
   "source": [
    "#### 3a) \n",
    "Write a program thst asks for the town you live in and then replies I live visiting [town name]"
   ]
  },
  {
   "cell_type": "code",
   "execution_count": 8,
   "metadata": {},
   "outputs": [
    {
     "name": "stdout",
     "output_type": "stream",
     "text": [
      "Where do you live? London\n",
      "I love visiting London\n"
     ]
    }
   ],
   "source": [
    "town = input(\"Where do you live? \")\n",
    "print(\"I love visiting\",town)"
   ]
  },
  {
   "cell_type": "markdown",
   "metadata": {},
   "source": [
    "#### 3b)\n",
    "Write a program thst asks for your firstname, then asks for your last name and finally greets you with your full name."
   ]
  },
  {
   "cell_type": "code",
   "execution_count": 14,
   "metadata": {},
   "outputs": [
    {
     "name": "stdout",
     "output_type": "stream",
     "text": [
      "What is your first name? james\n",
      "What is your last name? wilsomn\n",
      "Hello james wilsomn\n"
     ]
    }
   ],
   "source": [
    "firstname = input(\"What is your first name? \")\n",
    "secondname = input(\"What is your last name? \")\n",
    "print(\"Hello\",firstname,secondname)"
   ]
  },
  {
   "cell_type": "markdown",
   "metadata": {},
   "source": [
    "#### 3c)\n",
    "Write a program thst asks for your name and then prints it out 5 times."
   ]
  },
  {
   "cell_type": "code",
   "execution_count": 18,
   "metadata": {},
   "outputs": [
    {
     "name": "stdout",
     "output_type": "stream",
     "text": [
      "What is your name? james\n",
      "james james james james james \n"
     ]
    }
   ],
   "source": [
    "name = input(\"What is your name? \")\n",
    "name = name + \" \"\n",
    "print(name*5)"
   ]
  },
  {
   "cell_type": "markdown",
   "metadata": {},
   "source": [
    "### Calculations"
   ]
  },
  {
   "cell_type": "markdown",
   "metadata": {},
   "source": [
    "#### 4a)\n",
    "Copy and run"
   ]
  },
  {
   "cell_type": "code",
   "execution_count": 19,
   "metadata": {},
   "outputs": [
    {
     "name": "stdout",
     "output_type": "stream",
     "text": [
      "7\n",
      "2\n",
      "27\n",
      "3.5\n",
      "1\n"
     ]
    }
   ],
   "source": [
    "print(1+6)\n",
    "print(7-5)\n",
    "print(3*9)\n",
    "print(7/2)\n",
    "print(7%2)"
   ]
  },
  {
   "cell_type": "markdown",
   "metadata": {},
   "source": [
    "#### 4b)\n",
    "Ask the user to enter a number and return if it is prime or not"
   ]
  },
  {
   "cell_type": "markdown",
   "metadata": {},
   "source": [
    "# Good Validation"
   ]
  },
  {
   "cell_type": "code",
   "execution_count": 1,
   "metadata": {},
   "outputs": [],
   "source": [
    "def prime(number):\n",
    "    factors = []\n",
    "    count=0\n",
    "    prime = True\n",
    "    while prime == True and count <number:\n",
    "        for count in range (1,number+1):\n",
    "            if number%count == 0:\n",
    "                factors.append(count)\n",
    "            if len(factors) > 2:\n",
    "                prime = False\n",
    "    return prime\n",
    "\n",
    "def prime_2(number):\n",
    "    factors = []\n",
    "    count=0\n",
    "    prime = True\n",
    "\n",
    "    for count in range (1,number+1):\n",
    "        while prime == True and count <number:\n",
    "            if number%count == 0:\n",
    "                factors.append(count)\n",
    "            if len(factors) > 2:\n",
    "                prime = False\n",
    "    return prime\n",
    "    \n",
    "        "
   ]
  },
  {
   "cell_type": "code",
   "execution_count": 5,
   "metadata": {},
   "outputs": [
    {
     "name": "stdout",
     "output_type": "stream",
     "text": [
      "enter an integer to find out if it is a prime - 23\n",
      "23 is a prime number\n"
     ]
    }
   ],
   "source": [
    "valid = False\n",
    "while not valid:\n",
    "    try:\n",
    "        number=int(input(\"enter an integer to find out if it is a prime - \"))\n",
    "        valid=True\n",
    "    except ValueError:\n",
    "        print(\"That was not a valid number.. please try again\")\n",
    "        \n",
    "\n",
    "primes = prime(number)\n",
    "if primes == True:\n",
    "    print(number,\"is a prime number\")\n",
    "elif primes == False:\n",
    "    print(number,\"is not a prime number\")"
   ]
  },
  {
   "cell_type": "markdown",
   "metadata": {},
   "source": [
    "### Data Types"
   ]
  },
  {
   "cell_type": "markdown",
   "metadata": {},
   "source": [
    "#### 5a)\n",
    "Write a program that asks for a radius and a length, then outputs the volume of the cylinder."
   ]
  },
  {
   "cell_type": "code",
   "execution_count": 11,
   "metadata": {},
   "outputs": [
    {
     "name": "stdout",
     "output_type": "stream",
     "text": [
      "Enter the radius - wer\n",
      "That was not a valid number.. please try again\n",
      "Enter the radius - 3\n",
      "Ente the length - 34\n",
      "The volume is 960.84\n"
     ]
    }
   ],
   "source": [
    "valid = False\n",
    "while not valid:\n",
    "    try:\n",
    "        radius = float(input(\"Enter the radius - \"))\n",
    "        valid = True\n",
    "    except ValueError:\n",
    "        print(\"That was not a valid number.. please try again\")\n",
    "valid = False\n",
    "while not valid:\n",
    "    try:\n",
    "        length = int(input(\"Ente the length - \"))\n",
    "        valid = True\n",
    "    except ValueError:\n",
    "        print(\"That was not a valid number.. please try again\")\n",
    "print(\"The volume is\",3.14*(radius**2)*length)"
   ]
  },
  {
   "cell_type": "markdown",
   "metadata": {},
   "source": [
    "#### 5b)\n",
    "Write a program that asks the user for three numbers and finds the largest number out of these numbers."
   ]
  },
  {
   "cell_type": "code",
   "execution_count": 18,
   "metadata": {},
   "outputs": [
    {
     "name": "stdout",
     "output_type": "stream",
     "text": [
      "Enter a number - 23\n",
      "Enter a number - 2\n",
      "Enter a number - 2\n",
      "The biggest number is 23.0\n"
     ]
    }
   ],
   "source": [
    "valid = False\n",
    "while not valid:\n",
    "    try:\n",
    "        number1 = float(input(\"Enter a number - \"))\n",
    "        valid = True\n",
    "    except ValueError:\n",
    "        print(\"That was not a valid number.. please try again\")\n",
    "valid = False\n",
    "while not valid:\n",
    "    try:\n",
    "        number2 = float(input(\"Enter a number - \"))\n",
    "        valid = True\n",
    "    except ValueError:\n",
    "        print(\"That was not a valid number.. please try again\")\n",
    "valid = False\n",
    "while not valid:\n",
    "    try:\n",
    "        number3 = float(input(\"Enter a number - \"))\n",
    "        valid = True\n",
    "    except ValueError:\n",
    "        print(\"That was not a valid number.. please try again\")\n",
    "valid = False\n",
    "if number1 > number2:\n",
    "    bignumber = number1\n",
    "else:\n",
    "    bignumber = number2\n",
    "if bignumber < number3:\n",
    "    bignumber = number3\n",
    "print(\"The biggest number is\",bignumber)\n"
   ]
  },
  {
   "cell_type": "markdown",
   "metadata": {},
   "source": [
    "### Selction with if "
   ]
  },
  {
   "cell_type": "code",
   "execution_count": null,
   "metadata": {},
   "outputs": [],
   "source": [
    "valid = False\n",
    "number = 50\n",
    "while not valid:\n",
    "    try:\n",
    "        number = int(input(\"Enter a number - \"))\n",
    "        valid = True\n",
    "    except ValueError:\n",
    "        print(\"That was not a valid number.. please try again\")\n",
    "valid = False\n",
    "if number <= 40:\n",
    "    print(\"U\")\n",
    "elif number <=50:\n",
    "    print(\"D\")\n",
    "elif number <=60:\n",
    "    print(\"C\")\n",
    "elif number <=70:\n",
    "    print(\"B\")\n",
    "elif number <=100:\n",
    "    print(\"A\")\n",
    "else:\n",
    "    print(\"Invalid input\")\n",
    "    "
   ]
  },
  {
   "cell_type": "markdown",
   "metadata": {},
   "source": [
    "### iteration "
   ]
  },
  {
   "cell_type": "markdown",
   "metadata": {},
   "source": [
    "#### 7a) \n",
    "Write a program that gets a letter and a numbe then prints the letter number amout of times"
   ]
  },
  {
   "cell_type": "code",
   "execution_count": 59,
   "metadata": {},
   "outputs": [
    {
     "name": "stdout",
     "output_type": "stream",
     "text": [
      "Enter a letter - r\n",
      "Enter a number - 4\n",
      "rrrr\n"
     ]
    }
   ],
   "source": [
    "valid = False\n",
    "while not valid:\n",
    "    try:\n",
    "        letter=input(\"Enter a letter - \")\n",
    "        valid=True\n",
    "    except ValueError:\n",
    "        print(\"That was not a valid number.. please try again\")\n",
    "valid = False\n",
    "while not valid:\n",
    "    try:\n",
    "        number=int(input(\"Enter a number - \"))\n",
    "        valid=True\n",
    "    except ValueError:\n",
    "        print(\"That was not a valid number.. please try again\")\n",
    "print(letter*number)\n"
   ]
  },
  {
   "cell_type": "markdown",
   "metadata": {},
   "source": [
    "#### 8a)\n",
    "Write a program that asks for a password an d keeps asking until the correct password, apple is entered and then says Accepted"
   ]
  },
  {
   "cell_type": "code",
   "execution_count": 70,
   "metadata": {},
   "outputs": [
    {
     "name": "stdout",
     "output_type": "stream",
     "text": [
      "Enter a letter - apple\n",
      "Accepted\n"
     ]
    }
   ],
   "source": [
    "password = \"\"\n",
    "while password != \"apple\":\n",
    "    valid = False\n",
    "    while not valid:\n",
    "        try:\n",
    "            password=input(\"Enter a letter - \")\n",
    "            valid=True\n",
    "        except ValueError:\n",
    "            print(\"That was not a valid input.. please try again\")\n",
    "    valid = False\n",
    "print(\"Accepted\")\n",
    "      \n",
    "    "
   ]
  },
  {
   "cell_type": "markdown",
   "metadata": {},
   "source": [
    "#### 8b)\n",
    "Write a program that writes out all of the square numbers below 500"
   ]
  },
  {
   "cell_type": "code",
   "execution_count": 77,
   "metadata": {},
   "outputs": [
    {
     "name": "stdout",
     "output_type": "stream",
     "text": [
      "0\n",
      "1\n",
      "4\n",
      "9\n",
      "16\n",
      "25\n",
      "36\n",
      "49\n",
      "64\n",
      "81\n",
      "100\n",
      "121\n",
      "144\n",
      "169\n",
      "196\n",
      "225\n",
      "256\n",
      "289\n",
      "324\n",
      "361\n",
      "400\n",
      "441\n",
      "484\n"
     ]
    }
   ],
   "source": [
    "count = 0\n",
    "number = 0\n",
    "while number < 500:\n",
    "    number = count**2\n",
    "    if number <500:\n",
    "        print(number)\n",
    "    count +=1\n",
    "    "
   ]
  },
  {
   "cell_type": "markdown",
   "metadata": {},
   "source": [
    "### Functions"
   ]
  },
  {
   "cell_type": "markdown",
   "metadata": {},
   "source": [
    "#### 9a)\n",
    "write a fuction to find the area of a circle"
   ]
  },
  {
   "cell_type": "code",
   "execution_count": 88,
   "metadata": {},
   "outputs": [
    {
     "name": "stdout",
     "output_type": "stream",
     "text": [
      "3.14\n"
     ]
    }
   ],
   "source": [
    "def circle(r):\n",
    "    radius=3.14*r**2\n",
    "    return radius\n",
    "print(circle(1))\n",
    "    "
   ]
  },
  {
   "cell_type": "markdown",
   "metadata": {},
   "source": [
    "#### 9b)\n",
    "Write that function that takes a number and converts it into binary"
   ]
  },
  {
   "cell_type": "code",
   "execution_count": 10,
   "metadata": {},
   "outputs": [
    {
     "name": "stdout",
     "output_type": "stream",
     "text": [
      "Enter a number - 34\n",
      "0b100010\n"
     ]
    }
   ],
   "source": [
    "def dec_to_bin(number):  \n",
    "    return bin(number)\n",
    "\n",
    "valid = False\n",
    "while not valid:\n",
    "    try:\n",
    "        number=int(input(\"Enter a number - \"))\n",
    "        valid=True\n",
    "    except ValueError:\n",
    "        print(\"That was not a valid number.. please try again\")\n",
    "binary=dec_to_bin(number)\n",
    "print(binary)"
   ]
  },
  {
   "cell_type": "markdown",
   "metadata": {},
   "source": [
    "#### 9c)\n",
    "Write a function that can make the triangles out of sttars when called:\n",
    "triangle(2)\n",
    "\n"
   ]
  },
  {
   "cell_type": "code",
   "execution_count": 35,
   "metadata": {},
   "outputs": [],
   "source": [
    "def triangle(number):\n",
    "   \n",
    "    counter = 1\n",
    "    for count in range(1,number+1):\n",
    "        print(\" \" * (number-count) + \"*\" * counter )\n",
    "        counter += 2\n",
    "    \n",
    "    \n",
    "    # for count in range(0,number):\n",
    "    \n",
    "    \n",
    "    "
   ]
  },
  {
   "cell_type": "code",
   "execution_count": 40,
   "metadata": {},
   "outputs": [
    {
     "name": "stdout",
     "output_type": "stream",
     "text": [
      " *\n",
      "***\n",
      "  *\n",
      " ***\n",
      "*****\n",
      "   *\n",
      "  ***\n",
      " *****\n",
      "*******\n"
     ]
    }
   ],
   "source": [
    "triangle(2)\n",
    "triangle(3)\n",
    "triangle(4)"
   ]
  }
 ],
 "metadata": {
  "kernelspec": {
   "display_name": "Python 3",
   "language": "python",
   "name": "python3"
  },
  "language_info": {
   "codemirror_mode": {
    "name": "ipython",
    "version": 3
   },
   "file_extension": ".py",
   "mimetype": "text/x-python",
   "name": "python",
   "nbconvert_exporter": "python",
   "pygments_lexer": "ipython3",
   "version": "3.6.6"
  }
 },
 "nbformat": 4,
 "nbformat_minor": 2
}
